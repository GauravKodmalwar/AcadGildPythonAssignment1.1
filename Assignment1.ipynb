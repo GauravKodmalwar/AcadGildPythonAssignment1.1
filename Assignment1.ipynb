{
 "cells": [
  {
   "cell_type": "code",
   "execution_count": 1,
   "metadata": {},
   "outputs": [],
   "source": [
    "import numpy as np\n",
    "np.random.seed(0)\n",
    "\n",
    "x1 = np.random.randint(10, size=6) # one dimensional array\n",
    "x2 = np.random.randint(10, size=(5, 4)) # two dimensional array\n",
    "x3 = np.random.randint(10, size=(5,6,9)) # three dimensional array"
   ]
  },
  {
   "cell_type": "code",
   "execution_count": 3,
   "metadata": {},
   "outputs": [
    {
     "name": "stdout",
     "output_type": "stream",
     "text": [
      "*************** 1) One dimensional array ****************\n",
      "[5 0 3 3 7 9]\n",
      "*************** 2) Two dimensional array ****************\n",
      "[[3 5 2 4]\n",
      " [7 6 8 8]\n",
      " [1 6 7 7]\n",
      " [8 1 5 9]\n",
      " [8 9 4 3]]\n",
      "*************** 3) Three dimensional array ****************\n",
      "[[[0 3 5 0 2 3 8 1 3]\n",
      "  [3 3 7 0 1 9 9 0 4]\n",
      "  [7 3 2 7 2 0 0 4 5]\n",
      "  [5 6 8 4 1 4 9 8 1]\n",
      "  [1 7 9 9 3 6 7 2 0]\n",
      "  [3 5 9 4 4 6 4 4 3]]\n",
      "\n",
      " [[4 4 8 4 3 7 5 5 0]\n",
      "  [1 5 9 3 0 5 0 1 2]\n",
      "  [4 2 0 3 2 0 7 5 9]\n",
      "  [0 2 7 2 9 2 3 3 2]\n",
      "  [3 4 1 2 9 1 4 6 8]\n",
      "  [2 3 0 0 6 0 6 3 3]]\n",
      "\n",
      " [[8 8 8 2 3 2 0 8 8]\n",
      "  [3 8 2 8 4 3 0 4 3]\n",
      "  [6 9 8 0 8 5 9 0 9]\n",
      "  [6 5 3 1 8 0 4 9 6]\n",
      "  [5 7 8 8 9 2 8 6 6]\n",
      "  [9 1 6 8 8 3 2 3 6]]\n",
      "\n",
      " [[3 6 5 7 0 8 4 6 5]\n",
      "  [8 2 3 9 7 5 3 4 5]\n",
      "  [3 3 7 9 9 9 7 3 2]\n",
      "  [3 9 7 7 5 1 2 2 8]\n",
      "  [1 5 8 4 0 2 5 5 0]\n",
      "  [8 1 1 0 3 8 8 4 4]]\n",
      "\n",
      " [[0 9 3 7 3 2 1 1 2]\n",
      "  [1 4 2 5 5 5 2 5 7]\n",
      "  [7 6 1 6 7 2 3 1 9]\n",
      "  [5 9 9 2 0 9 1 9 0]\n",
      "  [6 0 4 8 4 3 3 8 8]\n",
      "  [7 0 3 8 7 7 1 8 4]]]\n"
     ]
    }
   ],
   "source": [
    "print(\"*************** 1) One dimensional array ****************\")\n",
    "print(x1)\n",
    "\n",
    "print(\"*************** 2) Two dimensional array ****************\")\n",
    "print(x2)\n",
    "\n",
    "print(\"*************** 3) Three dimensional array ****************\")\n",
    "print(x3)"
   ]
  },
  {
   "cell_type": "code",
   "execution_count": null,
   "metadata": {},
   "outputs": [],
   "source": []
  }
 ],
 "metadata": {
  "kernelspec": {
   "display_name": "Python 3",
   "language": "python",
   "name": "python3"
  },
  "language_info": {
   "codemirror_mode": {
    "name": "ipython",
    "version": 3
   },
   "file_extension": ".py",
   "mimetype": "text/x-python",
   "name": "python",
   "nbconvert_exporter": "python",
   "pygments_lexer": "ipython3",
   "version": "3.6.5"
  }
 },
 "nbformat": 4,
 "nbformat_minor": 2
}
